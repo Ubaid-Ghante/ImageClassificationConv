{
  "nbformat": 4,
  "nbformat_minor": 0,
  "metadata": {
    "colab": {
      "name": "Image classification.ipynb",
      "provenance": [],
      "authorship_tag": "ABX9TyO92LF2ZOdJZbjUXDgkbAa+",
      "include_colab_link": true
    },
    "kernelspec": {
      "name": "python3",
      "display_name": "Python 3"
    },
    "language_info": {
      "name": "python"
    }
  },
  "cells": [
    {
      "cell_type": "markdown",
      "metadata": {
        "id": "view-in-github",
        "colab_type": "text"
      },
      "source": [
        "<a href=\"https://colab.research.google.com/github/Ubaid-Ghante/ImageClassificationConv/blob/main/Image_classification.ipynb\" target=\"_parent\"><img src=\"https://colab.research.google.com/assets/colab-badge.svg\" alt=\"Open In Colab\"/></a>"
      ]
    },
    {
      "cell_type": "code",
      "execution_count": 1,
      "metadata": {
        "id": "MGl0cGs9UXiS"
      },
      "outputs": [],
      "source": [
        "%tensorflow_version 2.x"
      ]
    },
    {
      "cell_type": "code",
      "source": [
        "import tensorflow as tf\n",
        "from tensorflow import keras\n",
        "from keras import datasets, layers, models\n",
        "import numpy as np\n",
        "import matplotlib.pyplot as plt\n",
        "from sklearn.metrics import confusion_matrix , classification_report"
      ],
      "metadata": {
        "id": "01ID1BJmVa8o"
      },
      "execution_count": 19,
      "outputs": []
    },
    {
      "cell_type": "code",
      "source": [
        "(x_train, y_train), (x_test, y_test) = datasets.cifar10.load_data()"
      ],
      "metadata": {
        "colab": {
          "base_uri": "https://localhost:8080/"
        },
        "id": "VRc-HTR0VcJj",
        "outputId": "162056f2-14ff-4bf9-8e17-6ecdc1785aab"
      },
      "execution_count": 4,
      "outputs": [
        {
          "output_type": "stream",
          "name": "stdout",
          "text": [
            "Downloading data from https://www.cs.toronto.edu/~kriz/cifar-10-python.tar.gz\n",
            "170500096/170498071 [==============================] - 2s 0us/step\n",
            "170508288/170498071 [==============================] - 2s 0us/step\n"
          ]
        }
      ]
    },
    {
      "cell_type": "code",
      "source": [
        "y_train = y_train.reshape(-1,)"
      ],
      "metadata": {
        "id": "o2nqAHh8WvLV"
      },
      "execution_count": 6,
      "outputs": []
    },
    {
      "cell_type": "code",
      "source": [
        "classes = [\"airplane\",\"automobile\",\"bird\",\"cat\",\"deer\",\"dog\",\"frog\",\"horse\",\"ship\",\"truck\"]"
      ],
      "metadata": {
        "id": "2gGnp3YtX3ib"
      },
      "execution_count": 7,
      "outputs": []
    },
    {
      "cell_type": "code",
      "source": [
        "def plot_sample(X, y, index):\n",
        "    plt.figure(figsize = (15,2))\n",
        "    plt.imshow(X[index])\n",
        "    plt.xlabel(classes[y[index]])"
      ],
      "metadata": {
        "id": "siDGxjqIYK1m"
      },
      "execution_count": 8,
      "outputs": []
    },
    {
      "cell_type": "code",
      "source": [
        "x_train = x_train/255\n",
        "x_test = x_test/255"
      ],
      "metadata": {
        "id": "CBQkJBrHbsxv"
      },
      "execution_count": 15,
      "outputs": []
    },
    {
      "cell_type": "code",
      "source": [
        "ann = models.Sequential([\n",
        "              layers.Flatten(input_shape = (32,32,3)),\n",
        "              layers.Dense(3000, activation = 'relu'),\n",
        "              layers.Dense(1000, activation = 'relu'),\n",
        "              layers.Dense(10, activation = 'sigmoid')\n",
        "])\n",
        "\n",
        "ann.compile(optimizer='SGD',\n",
        "              loss='sparse_categorical_crossentropy',\n",
        "              metrics=['accuracy'])\n",
        "\n",
        "ann.fit(x_train, y_train, epochs = 2)"
      ],
      "metadata": {
        "colab": {
          "base_uri": "https://localhost:8080/"
        },
        "id": "KOcknvBGYbWz",
        "outputId": "4df0e971-807c-4e41-d32f-3b1be922a106"
      },
      "execution_count": 17,
      "outputs": [
        {
          "output_type": "stream",
          "name": "stdout",
          "text": [
            "Epoch 1/2\n",
            "1563/1563 [==============================] - 103s 66ms/step - loss: 1.8156 - accuracy: 0.3539\n",
            "Epoch 2/2\n",
            "1563/1563 [==============================] - 102s 66ms/step - loss: 1.6242 - accuracy: 0.4255\n"
          ]
        },
        {
          "output_type": "execute_result",
          "data": {
            "text/plain": [
              "<keras.callbacks.History at 0x7effacc05d90>"
            ]
          },
          "metadata": {},
          "execution_count": 17
        }
      ]
    },
    {
      "cell_type": "code",
      "source": [
        "#checking stats of the network\n",
        "y_pred = ann.predict(x_test)\n",
        "y_pred_classes = [np.argmax(element) for element in y_pred]\n",
        "\n",
        "print(\"Classification Report: \\n\", classification_report(y_test, y_pred_classes))"
      ],
      "metadata": {
        "colab": {
          "base_uri": "https://localhost:8080/"
        },
        "id": "cO4xL72wanpL",
        "outputId": "9415b5f8-b5ba-418f-9edc-bb96c0d3d9c5"
      },
      "execution_count": 20,
      "outputs": [
        {
          "output_type": "stream",
          "name": "stdout",
          "text": [
            "Classification Report: \n",
            "               precision    recall  f1-score   support\n",
            "\n",
            "           0       0.33      0.72      0.46      1000\n",
            "           1       0.61      0.47      0.53      1000\n",
            "           2       0.41      0.15      0.22      1000\n",
            "           3       0.35      0.19      0.24      1000\n",
            "           4       0.52      0.15      0.24      1000\n",
            "           5       0.37      0.34      0.35      1000\n",
            "           6       0.49      0.48      0.49      1000\n",
            "           7       0.28      0.79      0.41      1000\n",
            "           8       0.64      0.42      0.51      1000\n",
            "           9       0.66      0.34      0.45      1000\n",
            "\n",
            "    accuracy                           0.40     10000\n",
            "   macro avg       0.47      0.40      0.39     10000\n",
            "weighted avg       0.47      0.40      0.39     10000\n",
            "\n"
          ]
        }
      ]
    },
    {
      "cell_type": "code",
      "source": [
        "cnn = models.Sequential([\n",
        "              #cnn\n",
        "              layers.Conv2D(filters = 32, activation='relu', kernel_size=(3,3), input_shape = (32,32,3)),\n",
        "              layers.MaxPooling2D((2,2)),\n",
        "\n",
        "              layers.Conv2D(filters = 32, activation='relu', kernel_size=(3,3), input_shape = (32,32,3)),\n",
        "              layers.MaxPooling2D((2,2)),\n",
        "\n",
        "              #dense\n",
        "              layers.Flatten(),\n",
        "              layers.Dense(64, activation = 'relu'),\n",
        "              layers.Dense(10, activation = 'softmax')\n",
        "])\n",
        "\n",
        "cnn.compile(optimizer='adam',\n",
        "            loss='sparse_categorical_crossentropy',\n",
        "            metrics=['accuracy'])\n",
        "cnn.fit(x_train, y_train, epochs = 2)"
      ],
      "metadata": {
        "colab": {
          "base_uri": "https://localhost:8080/"
        },
        "id": "UMyy9WWsmvIP",
        "outputId": "9cdfe28a-61d0-49d7-fb8c-0dfbfb9f8089"
      },
      "execution_count": 23,
      "outputs": [
        {
          "output_type": "stream",
          "name": "stdout",
          "text": [
            "Epoch 1/2\n",
            "1563/1563 [==============================] - 54s 34ms/step - loss: 1.5391 - accuracy: 0.4443\n",
            "Epoch 2/2\n",
            "1563/1563 [==============================] - 55s 35ms/step - loss: 1.2073 - accuracy: 0.5731\n"
          ]
        },
        {
          "output_type": "execute_result",
          "data": {
            "text/plain": [
              "<keras.callbacks.History at 0x7effa8611b10>"
            ]
          },
          "metadata": {},
          "execution_count": 23
        }
      ]
    }
  ]
}